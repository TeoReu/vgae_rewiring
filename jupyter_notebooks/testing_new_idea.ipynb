{
 "cells": [
  {
   "cell_type": "code",
   "execution_count": 1,
   "metadata": {
    "collapsed": true,
    "ExecuteTime": {
     "start_time": "2023-05-03T17:02:47.195994Z",
     "end_time": "2023-05-03T17:03:12.552741Z"
    }
   },
   "outputs": [
    {
     "data": {
      "text/plain": "<All keys matched successfully>"
     },
     "execution_count": 1,
     "metadata": {},
     "output_type": "execute_result"
    }
   ],
   "source": [
    "import numpy as np\n",
    "from models.vgae import VariationalEncoder, L1VGAE\n",
    "import torch\n",
    "from utils.dataset import split_dataset\n",
    "\n",
    "np.random.seed(1)\n",
    "torch.manual_seed(1)\n",
    "\n",
    "\n",
    "device = torch.device(\"cuda\" if torch.cuda.is_available() else \"cpu\")\n",
    "\n",
    "data_train, data_test, data_val, = split_dataset(True)\n",
    "\n",
    "in_channels, out_channels, lr, n_epochs = data_train[0].num_features, 20, 0.001, 300\n",
    "\n",
    "\n",
    "vae_layers, alpha, threshold = 2, 1.0, 0.65\n",
    "vae = L1VGAE(VariationalEncoder(in_channels, out_channels, layers=vae_layers, molecular=True, transform=True), device)\n",
    "vae.load_state_dict(torch.load(\n",
    "    '../results/model_GCN/graph_split_/layers_' + str(\n",
    "        vae_layers) + '/transform_'+str(True)+'/alpha_' + str(\n",
    "        alpha) +'/model.pt'))"
   ]
  },
  {
   "cell_type": "code",
   "execution_count": 2,
   "outputs": [],
   "source": [
    "from zinc_classifier import transform_zinc_dataset, transform_zinc_dataset_with_weights\n",
    "\n",
    "train = transform_zinc_dataset_with_weights(vae, data_train, 0.75)\n",
    "data_test = transform_zinc_dataset_with_weights(vae, data_test, 0.75)"
   ],
   "metadata": {
    "collapsed": false,
    "ExecuteTime": {
     "start_time": "2023-05-03T17:03:12.556257Z",
     "end_time": "2023-05-03T17:03:33.889252Z"
    }
   }
  },
  {
   "cell_type": "code",
   "execution_count": 3,
   "outputs": [
    {
     "name": "stdout",
     "output_type": "stream",
     "text": [
      "[Data(x=[29, 1], edge_index=[2, 64], edge_attr=[64], y=[1], laplacian_eigenvector_pe=[29, 5], vr_edge_index=[2, 229], vr_edge_weight=[229]), Data(x=[26, 1], edge_index=[2, 56], edge_attr=[56], y=[1], laplacian_eigenvector_pe=[26, 5], vr_edge_index=[2, 178], vr_edge_weight=[178]), Data(x=[16, 1], edge_index=[2, 34], edge_attr=[34], y=[1], laplacian_eigenvector_pe=[16, 5], vr_edge_index=[2, 64], vr_edge_weight=[64]), Data(x=[27, 1], edge_index=[2, 60], edge_attr=[60], y=[1], laplacian_eigenvector_pe=[27, 5], vr_edge_index=[2, 201], vr_edge_weight=[201]), Data(x=[21, 1], edge_index=[2, 44], edge_attr=[44], y=[1], laplacian_eigenvector_pe=[21, 5], vr_edge_index=[2, 113], vr_edge_weight=[113]), Data(x=[28, 1], edge_index=[2, 60], edge_attr=[60], y=[1], laplacian_eigenvector_pe=[28, 5], vr_edge_index=[2, 190], vr_edge_weight=[190]), Data(x=[19, 1], edge_index=[2, 38], edge_attr=[38], y=[1], laplacian_eigenvector_pe=[19, 5], vr_edge_index=[2, 83], vr_edge_weight=[83]), Data(x=[16, 1], edge_index=[2, 32], edge_attr=[32], y=[1], laplacian_eigenvector_pe=[16, 5], vr_edge_index=[2, 66], vr_edge_weight=[66]), Data(x=[22, 1], edge_index=[2, 46], edge_attr=[46], y=[1], laplacian_eigenvector_pe=[22, 5], vr_edge_index=[2, 102], vr_edge_weight=[102]), Data(x=[18, 1], edge_index=[2, 38], edge_attr=[38], y=[1], laplacian_eigenvector_pe=[18, 5], vr_edge_index=[2, 116], vr_edge_weight=[116])]\n"
     ]
    }
   ],
   "source": [
    "data_train = train[0:10]\n",
    "print(data_train)"
   ],
   "metadata": {
    "collapsed": false,
    "ExecuteTime": {
     "start_time": "2023-05-03T17:03:33.892271Z",
     "end_time": "2023-05-03T17:03:33.897467Z"
    }
   }
  },
  {
   "cell_type": "code",
   "execution_count": 4,
   "outputs": [
    {
     "ename": "IndexError",
     "evalue": "The shape of the mask [1] at index 0 does not match the shape of the indexed tensor [229, 2] at index 1",
     "output_type": "error",
     "traceback": [
      "\u001B[0;31m---------------------------------------------------------------------------\u001B[0m",
      "\u001B[0;31mIndexError\u001B[0m                                Traceback (most recent call last)",
      "Cell \u001B[0;32mIn[4], line 34\u001B[0m\n\u001B[1;32m     28\u001B[0m     \u001B[38;5;28;01mreturn\u001B[39;00m data_copy\n\u001B[1;32m     32\u001B[0m data_train[\u001B[38;5;241m0\u001B[39m]\n\u001B[0;32m---> 34\u001B[0m data_train_x \u001B[38;5;241m=\u001B[39m \u001B[43mget_new_edge_index\u001B[49m\u001B[43m(\u001B[49m\u001B[43mdata_train\u001B[49m\u001B[43m)\u001B[49m\n",
      "File \u001B[0;32m~/PycharmProjects/vgae_rewiring/utils/other_stuff.py:15\u001B[0m, in \u001B[0;36mget_new_edge_index\u001B[0;34m(data)\u001B[0m\n\u001B[1;32m     13\u001B[0m \u001B[38;5;66;03m# Remove self-cycles from b\u001B[39;00m\n\u001B[1;32m     14\u001B[0m self_loops \u001B[38;5;241m=\u001B[39m torch\u001B[38;5;241m.\u001B[39mwhere(b[\u001B[38;5;241m0\u001B[39m] \u001B[38;5;241m==\u001B[39m b[\u001B[38;5;241m1\u001B[39m])[\u001B[38;5;241m0\u001B[39m]\n\u001B[0;32m---> 15\u001B[0m b \u001B[38;5;241m=\u001B[39m \u001B[43mb\u001B[49m\u001B[43m[\u001B[49m\u001B[43m:\u001B[49m\u001B[43m,\u001B[49m\u001B[43m \u001B[49m\u001B[43mself_loops\u001B[49m\u001B[43m \u001B[49m\u001B[38;5;241;43m==\u001B[39;49m\u001B[43m \u001B[49m\u001B[38;5;28;43;01mFalse\u001B[39;49;00m\u001B[43m]\u001B[49m\n\u001B[1;32m     16\u001B[0m value_b \u001B[38;5;241m=\u001B[39m value_b[self_loops \u001B[38;5;241m==\u001B[39m \u001B[38;5;28;01mFalse\u001B[39;00m]\n\u001B[1;32m     18\u001B[0m a_set \u001B[38;5;241m=\u001B[39m \u001B[38;5;28mset\u001B[39m(\u001B[38;5;28mtuple\u001B[39m(x\u001B[38;5;241m.\u001B[39mtolist()) \u001B[38;5;28;01mfor\u001B[39;00m x \u001B[38;5;129;01min\u001B[39;00m a)\n",
      "\u001B[0;31mIndexError\u001B[0m: The shape of the mask [1] at index 0 does not match the shape of the indexed tensor [229, 2] at index 1"
     ]
    }
   ],
   "source": [
    "from utils.other_stuff import get_new_edge_index\n",
    "\n",
    "\n",
    "def remove_repeating_edges(data):\n",
    "    data_copy = []\n",
    "\n",
    "    for graph in data:\n",
    "        a = graph.edge_index.T\n",
    "        b = graph.vr_edge_index.T\n",
    "        value_b = graph.vr_edge_weight\n",
    "\n",
    "\n",
    "        # get the common element\n",
    "        # get the common element\n",
    "        common = set(tuple(x.tolist()) for x in a) & set(tuple(x.tolist()) for x in b)\n",
    "\n",
    "        # remove common element from b\n",
    "        b = torch.stack([x for x in b if tuple(x.tolist()) not in common and x[0] != x[1]])\n",
    "\n",
    "\n",
    "\n",
    "        a = torch.cat([a,b], dim=0)\n",
    "\n",
    "        graph.new_edge_index = a.T\n",
    "\n",
    "        data_copy.append(graph)\n",
    "\n",
    "    return data_copy\n",
    "\n",
    "\n",
    "\n",
    "data_train[0]\n",
    "\n",
    "data_train_x = get_new_edge_index(data_train)\n",
    "\n"
   ],
   "metadata": {
    "collapsed": false,
    "ExecuteTime": {
     "start_time": "2023-05-03T15:55:26.292940Z",
     "end_time": "2023-05-03T17:00:47.596494Z"
    }
   }
  },
  {
   "cell_type": "code",
   "execution_count": 51,
   "outputs": [
    {
     "ename": "ValueError",
     "evalue": "too many values to unpack (expected 2)",
     "output_type": "error",
     "traceback": [
      "\u001B[0;31m---------------------------------------------------------------------------\u001B[0m",
      "\u001B[0;31mValueError\u001B[0m                                Traceback (most recent call last)",
      "Cell \u001B[0;32mIn[51], line 10\u001B[0m\n\u001B[1;32m      6\u001B[0m \u001B[38;5;28;01mfor\u001B[39;00m graph \u001B[38;5;129;01min\u001B[39;00m data_train:\n\u001B[1;32m      9\u001B[0m     G1 \u001B[38;5;241m=\u001B[39m to_networkx(Data(edge_index\u001B[38;5;241m=\u001B[39mgraph\u001B[38;5;241m.\u001B[39medge_index, num_nodes\u001B[38;5;241m=\u001B[39mgraph\u001B[38;5;241m.\u001B[39mx\u001B[38;5;241m.\u001B[39mshape[\u001B[38;5;241m0\u001B[39m]))\n\u001B[0;32m---> 10\u001B[0m     G2 \u001B[38;5;241m=\u001B[39m \u001B[43mto_networkx\u001B[49m\u001B[43m(\u001B[49m\u001B[43mData\u001B[49m\u001B[43m(\u001B[49m\u001B[43medge_index\u001B[49m\u001B[38;5;241;43m=\u001B[39;49m\u001B[43mgraph\u001B[49m\u001B[38;5;241;43m.\u001B[39;49m\u001B[43mnew_edge_index\u001B[49m\u001B[43m,\u001B[49m\u001B[43m \u001B[49m\u001B[43mnum_nodes\u001B[49m\u001B[38;5;241;43m=\u001B[39;49m\u001B[43mgraph\u001B[49m\u001B[38;5;241;43m.\u001B[39;49m\u001B[43mx\u001B[49m\u001B[38;5;241;43m.\u001B[39;49m\u001B[43mshape\u001B[49m\u001B[43m[\u001B[49m\u001B[38;5;241;43m0\u001B[39;49m\u001B[43m]\u001B[49m\u001B[43m)\u001B[49m\u001B[43m)\u001B[49m\n\u001B[1;32m     12\u001B[0m     fig, (ax1, ax2) \u001B[38;5;241m=\u001B[39m plt\u001B[38;5;241m.\u001B[39msubplots(\u001B[38;5;241m1\u001B[39m, \u001B[38;5;241m2\u001B[39m)\n\u001B[1;32m     14\u001B[0m     \u001B[38;5;66;03m# plot the first graph on the first column\u001B[39;00m\n",
      "File \u001B[0;32m~/PycharmProjects/venv/variational_rewiring/lib/python3.9/site-packages/torch_geometric/utils/convert.py:143\u001B[0m, in \u001B[0;36mto_networkx\u001B[0;34m(data, node_attrs, edge_attrs, graph_attrs, to_undirected, remove_self_loops)\u001B[0m\n\u001B[1;32m    140\u001B[0m to_undirected_upper \u001B[38;5;241m=\u001B[39m \u001B[38;5;28;01mTrue\u001B[39;00m \u001B[38;5;28;01mif\u001B[39;00m to_undirected \u001B[38;5;241m==\u001B[39m \u001B[38;5;124m\"\u001B[39m\u001B[38;5;124mupper\u001B[39m\u001B[38;5;124m\"\u001B[39m \u001B[38;5;28;01melse\u001B[39;00m \u001B[38;5;28;01mFalse\u001B[39;00m\n\u001B[1;32m    141\u001B[0m to_undirected_lower \u001B[38;5;241m=\u001B[39m \u001B[38;5;28;01mTrue\u001B[39;00m \u001B[38;5;28;01mif\u001B[39;00m to_undirected \u001B[38;5;241m==\u001B[39m \u001B[38;5;124m\"\u001B[39m\u001B[38;5;124mlower\u001B[39m\u001B[38;5;124m\"\u001B[39m \u001B[38;5;28;01melse\u001B[39;00m \u001B[38;5;28;01mFalse\u001B[39;00m\n\u001B[0;32m--> 143\u001B[0m \u001B[38;5;28;01mfor\u001B[39;00m i, (u, v) \u001B[38;5;129;01min\u001B[39;00m \u001B[38;5;28menumerate\u001B[39m(data\u001B[38;5;241m.\u001B[39medge_index\u001B[38;5;241m.\u001B[39mt()\u001B[38;5;241m.\u001B[39mtolist()):\n\u001B[1;32m    145\u001B[0m     \u001B[38;5;28;01mif\u001B[39;00m to_undirected_upper \u001B[38;5;129;01mand\u001B[39;00m u \u001B[38;5;241m>\u001B[39m v:\n\u001B[1;32m    146\u001B[0m         \u001B[38;5;28;01mcontinue\u001B[39;00m\n",
      "\u001B[0;31mValueError\u001B[0m: too many values to unpack (expected 2)"
     ]
    }
   ],
   "source": [
    "from torch_geometric.utils import to_networkx\n",
    "from matplotlib import pyplot as plt\n",
    "import networkx as nx\n",
    "from torch_geometric.data import Data\n",
    "\n",
    "for graph in data_train:\n",
    "\n",
    "\n",
    "    G1 = to_networkx(Data(edge_index=graph.edge_index, num_nodes=graph.x.shape[0]))\n",
    "    G2 = to_networkx(Data(edge_index=graph.new_edge_index, num_nodes=graph.x.shape[0]))\n",
    "\n",
    "    fig, (ax1, ax2) = plt.subplots(1, 2)\n",
    "\n",
    "    # plot the first graph on the first column\n",
    "    nx.draw(G1, ax=ax1, with_labels=True)\n",
    "    ax1.set_title(\"True Graph\")\n",
    "\n",
    "    # plot the second graph on the second column\n",
    "    nx.draw(G2, ax=ax2, with_labels=True)\n",
    "    ax2.set_title(\"Rewired Graph\")\n",
    "\n",
    "    plt.show()\n",
    "    # plt.show()\n"
   ],
   "metadata": {
    "collapsed": false,
    "ExecuteTime": {
     "start_time": "2023-05-03T00:35:29.787385Z",
     "end_time": "2023-05-03T13:48:06.553921Z"
    }
   }
  },
  {
   "cell_type": "code",
   "execution_count": null,
   "outputs": [],
   "source": [],
   "metadata": {
    "collapsed": false
   }
  }
 ],
 "metadata": {
  "kernelspec": {
   "display_name": "Python 3",
   "language": "python",
   "name": "python3"
  },
  "language_info": {
   "codemirror_mode": {
    "name": "ipython",
    "version": 2
   },
   "file_extension": ".py",
   "mimetype": "text/x-python",
   "name": "python",
   "nbconvert_exporter": "python",
   "pygments_lexer": "ipython2",
   "version": "2.7.6"
  }
 },
 "nbformat": 4,
 "nbformat_minor": 0
}
