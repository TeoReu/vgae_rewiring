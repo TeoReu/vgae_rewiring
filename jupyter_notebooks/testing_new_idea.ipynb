{
 "cells": [
  {
   "cell_type": "code",
   "execution_count": 20,
   "metadata": {
    "collapsed": true,
    "ExecuteTime": {
     "start_time": "2023-05-02T17:20:31.107240Z",
     "end_time": "2023-05-02T17:20:56.109544Z"
    }
   },
   "outputs": [
    {
     "data": {
      "text/plain": "<All keys matched successfully>"
     },
     "execution_count": 20,
     "metadata": {},
     "output_type": "execute_result"
    }
   ],
   "source": [
    "import numpy as np\n",
    "from models.vgae import VariationalEncoder, L1VGAE\n",
    "import torch\n",
    "from utils.dataset import split_dataset\n",
    "\n",
    "np.random.seed(1)\n",
    "torch.manual_seed(1)\n",
    "\n",
    "\n",
    "device = torch.device(\"cuda\" if torch.cuda.is_available() else \"cpu\")\n",
    "\n",
    "data_train, data_test, data_val, = split_dataset(True)\n",
    "\n",
    "in_channels, out_channels, lr, n_epochs = data_train[0].num_features, 20, 0.001, 300\n",
    "\n",
    "\n",
    "vae_layers, alpha, threshold = 2, 0.5, 0.65\n",
    "vae = L1VGAE(VariationalEncoder(in_channels, out_channels, layers=vae_layers, molecular=True, transform=True), device)\n",
    "vae.load_state_dict(torch.load(\n",
    "    '../results/model_GCN/graph_split_/layers_' + str(\n",
    "        vae_layers) + '/transform_'+str(True)+'/alpha_' + str(\n",
    "        alpha) +'/model.pt'))"
   ]
  },
  {
   "cell_type": "code",
   "execution_count": 21,
   "outputs": [],
   "source": [
    "from zinc_classifier import transform_zinc_dataset, transform_zinc_dataset_with_weights\n",
    "\n",
    "data_train = transform_zinc_dataset_with_weights(vae, data_train, 0.8)\n",
    "data_test = transform_zinc_dataset_with_weights(vae, data_test, 0.8)"
   ],
   "metadata": {
    "collapsed": false,
    "ExecuteTime": {
     "start_time": "2023-05-02T17:20:56.111550Z",
     "end_time": "2023-05-02T17:21:22.239287Z"
    }
   }
  },
  {
   "cell_type": "code",
   "execution_count": 22,
   "outputs": [
    {
     "name": "stdout",
     "output_type": "stream",
     "text": [
      "[Data(x=[29, 1], edge_index=[2, 64], edge_attr=[64], y=[1], laplacian_eigenvector_pe=[29, 5], vr_edge_index=[2, 160], vr_edge_weight=[160]), Data(x=[26, 1], edge_index=[2, 56], edge_attr=[56], y=[1], laplacian_eigenvector_pe=[26, 5], vr_edge_index=[2, 146], vr_edge_weight=[146]), Data(x=[16, 1], edge_index=[2, 34], edge_attr=[34], y=[1], laplacian_eigenvector_pe=[16, 5], vr_edge_index=[2, 56], vr_edge_weight=[56]), Data(x=[27, 1], edge_index=[2, 60], edge_attr=[60], y=[1], laplacian_eigenvector_pe=[27, 5], vr_edge_index=[2, 173], vr_edge_weight=[173]), Data(x=[21, 1], edge_index=[2, 44], edge_attr=[44], y=[1], laplacian_eigenvector_pe=[21, 5], vr_edge_index=[2, 95], vr_edge_weight=[95]), Data(x=[28, 1], edge_index=[2, 60], edge_attr=[60], y=[1], laplacian_eigenvector_pe=[28, 5], vr_edge_index=[2, 214], vr_edge_weight=[214]), Data(x=[19, 1], edge_index=[2, 38], edge_attr=[38], y=[1], laplacian_eigenvector_pe=[19, 5], vr_edge_index=[2, 91], vr_edge_weight=[91]), Data(x=[16, 1], edge_index=[2, 32], edge_attr=[32], y=[1], laplacian_eigenvector_pe=[16, 5], vr_edge_index=[2, 70], vr_edge_weight=[70]), Data(x=[22, 1], edge_index=[2, 46], edge_attr=[46], y=[1], laplacian_eigenvector_pe=[22, 5], vr_edge_index=[2, 100], vr_edge_weight=[100]), Data(x=[18, 1], edge_index=[2, 38], edge_attr=[38], y=[1], laplacian_eigenvector_pe=[18, 5], vr_edge_index=[2, 86], vr_edge_weight=[86])]\n"
     ]
    }
   ],
   "source": [
    "data_train = data_train[0:10]\n",
    "print(data_train)"
   ],
   "metadata": {
    "collapsed": false,
    "ExecuteTime": {
     "start_time": "2023-05-02T17:21:22.241253Z",
     "end_time": "2023-05-02T17:21:23.181433Z"
    }
   }
  },
  {
   "cell_type": "code",
   "execution_count": 23,
   "outputs": [],
   "source": [
    "def remove_repeating_edges(data):\n",
    "    data_copy = []\n",
    "\n",
    "    for graph in data:\n",
    "        graph.best_edge_index = graph.edge_index\n",
    "        #remove edges from edge_index to vr_edge_index\n",
    "\n",
    "        a = graph.edge_index.T\n",
    "        b = graph.vr_edge_index.T\n",
    "\n",
    "        # get the common element\n",
    "        # get the common element\n",
    "        common = set(tuple(x.tolist()) for x in a) & set(tuple(x.tolist()) for x in b)\n",
    "\n",
    "        # remove common element from b\n",
    "        b = torch.stack([x for x in b if tuple(x.tolist()) not in common and x[0] != x[1]])\n",
    "\n",
    "        a = torch.cat([a,b], dim=0)\n",
    "\n",
    "        graph.new_edge_index = a.T\n",
    "\n",
    "        data_copy.append(graph)\n",
    "\n",
    "    return data_copy\n",
    "\n",
    "data_train = remove_repeating_edges(data_train)\n"
   ],
   "metadata": {
    "collapsed": false,
    "ExecuteTime": {
     "start_time": "2023-05-02T17:21:23.164589Z",
     "end_time": "2023-05-02T17:21:23.202865Z"
    }
   }
  },
  {
   "cell_type": "code",
   "execution_count": 17,
   "outputs": [
    {
     "ename": "TypeError",
     "evalue": "'NoneType' object is not iterable",
     "output_type": "error",
     "traceback": [
      "\u001B[0;31m---------------------------------------------------------------------------\u001B[0m",
      "\u001B[0;31mTypeError\u001B[0m                                 Traceback (most recent call last)",
      "Cell \u001B[0;32mIn[17], line 5\u001B[0m\n\u001B[1;32m      2\u001B[0m \u001B[38;5;28;01mimport\u001B[39;00m \u001B[38;5;21;01mnetworkx\u001B[39;00m \u001B[38;5;28;01mas\u001B[39;00m \u001B[38;5;21;01mnx\u001B[39;00m\n\u001B[1;32m      3\u001B[0m \u001B[38;5;28;01mfrom\u001B[39;00m \u001B[38;5;21;01mtorch_geometric\u001B[39;00m\u001B[38;5;21;01m.\u001B[39;00m\u001B[38;5;21;01mdata\u001B[39;00m \u001B[38;5;28;01mimport\u001B[39;00m Data\n\u001B[0;32m----> 5\u001B[0m \u001B[38;5;28;01mfor\u001B[39;00m graph \u001B[38;5;129;01min\u001B[39;00m data_train:\n\u001B[1;32m      8\u001B[0m     G1 \u001B[38;5;241m=\u001B[39m Data(edge_index\u001B[38;5;241m=\u001B[39mgraph\u001B[38;5;241m.\u001B[39medge_index, num_nodes\u001B[38;5;241m=\u001B[39mgraph\u001B[38;5;241m.\u001B[39mx\u001B[38;5;241m.\u001B[39mshape[\u001B[38;5;241m0\u001B[39m])\n\u001B[1;32m      9\u001B[0m     G2 \u001B[38;5;241m=\u001B[39m Data(edge_index\u001B[38;5;241m=\u001B[39mgraph\u001B[38;5;241m.\u001B[39mnew_edge_index, num_nodes\u001B[38;5;241m=\u001B[39mgraph\u001B[38;5;241m.\u001B[39mx\u001B[38;5;241m.\u001B[39mshape[\u001B[38;5;241m0\u001B[39m])\n",
      "\u001B[0;31mTypeError\u001B[0m: 'NoneType' object is not iterable"
     ]
    }
   ],
   "source": [
    "from matplotlib import pyplot as plt\n",
    "import networkx as nx\n",
    "from torch_geometric.data import Data\n",
    "\n",
    "for graph in data_train:\n",
    "\n",
    "\n",
    "    G1 = Data(edge_index=graph.edge_index, num_nodes=graph.x.shape[0])\n",
    "    G2 = Data(edge_index=graph.new_edge_index, num_nodes=graph.x.shape[0])\n",
    "\n",
    "    fig, (ax1, ax2) = plt.subplots(1, 2)\n",
    "\n",
    "    # plot the first graph on the first column\n",
    "    nx.draw(G1, ax=ax1, with_labels=True)\n",
    "    ax1.set_title(\"True Graph\")\n",
    "\n",
    "    # plot the second graph on the second column\n",
    "    nx.draw(G2, ax=ax2, with_labels=True)\n",
    "    ax2.set_title(\"Rewired Graph\")\n",
    "\n",
    "    plt.show()\n",
    "    # plt.show()\n"
   ],
   "metadata": {
    "collapsed": false
   }
  },
  {
   "cell_type": "code",
   "execution_count": null,
   "outputs": [],
   "source": [],
   "metadata": {
    "collapsed": false
   }
  }
 ],
 "metadata": {
  "kernelspec": {
   "display_name": "Python 3",
   "language": "python",
   "name": "python3"
  },
  "language_info": {
   "codemirror_mode": {
    "name": "ipython",
    "version": 2
   },
   "file_extension": ".py",
   "mimetype": "text/x-python",
   "name": "python",
   "nbconvert_exporter": "python",
   "pygments_lexer": "ipython2",
   "version": "2.7.6"
  }
 },
 "nbformat": 4,
 "nbformat_minor": 0
}
