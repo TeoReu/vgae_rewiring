{
 "cells": [
  {
   "cell_type": "code",
   "execution_count": 2,
   "metadata": {
    "collapsed": true,
    "ExecuteTime": {
     "start_time": "2023-05-19T14:19:44.538947Z",
     "end_time": "2023-05-19T14:19:47.634371Z"
    }
   },
   "outputs": [],
   "source": [
    "import torch\n",
    "\n",
    "def return_first_pos_eigenvalue(a):\n",
    "    \"\"\"\n",
    "    Returns the first positive eigenvalue of the laplacian of a graph\n",
    "    :param a:\n",
    "    :return:\n",
    "    \"\"\"\n",
    "    degrees = torch.sum(a, dim=1).unsqueeze(-1)\n",
    "    I = torch.eye(a.size()[0])\n",
    "    D = torch.pow(degrees, -0.5).squeeze()\n",
    "    D = torch.diag(D)\n",
    "    lap_sym = I - torch.mm(torch.mm(D, a), D)\n",
    "\n",
    "    eigenvalues = torch.sort(torch.real(torch.linalg.eigvals(lap_sym)))\n",
    "    first_pos_eigenvalue = eigenvalues[0][1]\n",
    "\n",
    "    return first_pos_eigenvalue, eigenvalues"
   ]
  },
  {
   "cell_type": "code",
   "execution_count": null,
   "outputs": [],
   "source": [
    "from scipy.sparse.linalg import eigs, eigsh\n",
    "import scipy\n",
    "\n",
    "def return_first_positive_eig_smarter(a):\n",
    "    degrees = torch.sum(a, dim=1).unsqueeze(-1)\n",
    "    I = torch.eye(a.size()[0])\n",
    "    D = torch.pow(degrees, -0.5).squeeze()\n",
    "    D = torch.diag(D)\n",
    "    lap_sym = 2 * I - torch.mm(torch.mm(D, a), D)\n",
    "\n",
    "    reversed_lap_sym = scipy.sparse.csr_matrix(lap_sym)\n",
    "\n",
    "    lambda_max = eigs(reversed_lap_sym, k=1, which='LM', return_eigenvectors=False)\n",
    "\n",
    "    return lambda_max"
   ],
   "metadata": {
    "collapsed": false,
    "ExecuteTime": {
     "start_time": "2023-05-19T11:55:27.421484Z",
     "end_time": "2023-05-19T11:55:27.525521Z"
    }
   }
  },
  {
   "cell_type": "code",
   "execution_count": 3,
   "outputs": [
    {
     "name": "stdout",
     "output_type": "stream",
     "text": [
      "(tensor(0.0628), torch.return_types.sort(\n",
      "values=tensor([5.5879e-08, 6.2754e-02, 6.0462e-01, 1.0000e+00, 1.5000e+00, 1.5000e+00,\n",
      "        1.5620e+00, 1.7706e+00]),\n",
      "indices=tensor([0, 1, 2, 3, 7, 5, 6, 4])))\n"
     ]
    }
   ],
   "source": [
    "# make a 8 by 8 matrix\n",
    "a = torch.tensor([[0, 1, 1, 0, 0, 0, 0, 0],\n",
    "                  [1, 0, 1, 0, 0, 0, 0, 0],\n",
    "                  [1, 1, 0, 1, 0, 0, 0, 0],\n",
    "                  [0, 0, 1, 0, 0.5, 0, 0, 0],\n",
    "                  [0, 0, 0, 0.5, 0, 1, 0, 0],\n",
    "                  [0, 0, 0, 0, 1, 0, 1, 1],\n",
    "                  [0, 0, 0, 0, 0, 1, 0, 1],\n",
    "                  [0, 0, 0, 0, 0, 1, 1, 0]], dtype=torch.float32)\n",
    "\n",
    "print(return_first_pos_eigenvalue(a))\n",
    "#print(return_first_positive_eig_smarter(a))"
   ],
   "metadata": {
    "collapsed": false,
    "ExecuteTime": {
     "start_time": "2023-05-19T14:19:47.642625Z",
     "end_time": "2023-05-19T14:19:47.698415Z"
    }
   }
  },
  {
   "cell_type": "code",
   "execution_count": 6,
   "outputs": [
    {
     "name": "stdout",
     "output_type": "stream",
     "text": [
      "(tensor(0.3333), torch.return_types.sort(\n",
      "values=tensor([0.0000, 0.3333, 1.6667, 2.0000]),\n",
      "indices=tensor([0, 1, 3, 2])))\n"
     ]
    }
   ],
   "source": [
    "a= torch.tensor([[0, 1, 0, 0]\n",
    "                ,[1, 0, 0.5, 0],\n",
    "                 [0, 0.5, 0, 1],\n",
    "                 [0, 0, 1, 0]]).float()\n",
    "print(return_first_pos_eigenvalue(a))"
   ],
   "metadata": {
    "collapsed": false,
    "ExecuteTime": {
     "start_time": "2023-05-04T14:29:44.282155Z",
     "end_time": "2023-05-04T14:29:44.305677Z"
    }
   }
  },
  {
   "cell_type": "code",
   "execution_count": null,
   "outputs": [],
   "source": [],
   "metadata": {
    "collapsed": false
   }
  },
  {
   "cell_type": "code",
   "execution_count": 45,
   "outputs": [
    {
     "data": {
      "text/plain": "(tensor(0.6053),\n torch.return_types.sort(\n values=tensor([2.9487e-07, 6.0528e-01, 6.0528e-01, 7.3468e-01, 7.3468e-01, 1.3187e+00,\n         1.3187e+00, 1.4597e+00, 1.4597e+00, 1.7633e+00]),\n indices=tensor([0, 9, 8, 2, 1, 4, 5, 7, 6, 3])))"
     },
     "execution_count": 45,
     "metadata": {},
     "output_type": "execute_result"
    }
   ],
   "source": [
    "# Test return_first_pos_eigenvalue function by giving it a weighted adjacency matrix\n",
    "a= torch.tenosr([[1, 1, 0, 0],[1, 1, 1, 0],[0, 1, 1, 1],[0, 0, 1, 1]])\n",
    "a = torch.tensor([[0, a, a, a, a, a, 0, 0, 0, 1],\n",
    "                  [1, 0, 0, 0, 0, 0, 0, 0, 0, 0],\n",
    "                  [0, 1, 0, 0, 0, 0, 0, 0, 0, 0],\n",
    "                  [0, 0, 1, 0, 0, 0, 0, 0, 0, 0],\n",
    "                  [0, 0, 0, 1, 0, 0, 0, 0, 0, 0],\n",
    "                  [0, 0, 0, 0, a, 0, 0, 0, 0, 0],\n",
    "                  [0, 0, 0, 0, 0, 1, 0, 0, 0, 0],\n",
    "                  [0, 0, 0, 0, 0, 0, 1, 0, 0, 0],\n",
    "                  [0, 0, 0, 0, 0, 0, 0, 1, 0, 0],\n",
    "                  [0, 0, 0, 0, 0, 0, 0, 0, 1, 0]], dtype=torch.float32)\n",
    "return_first_pos_eigenvalue(a)"
   ],
   "metadata": {
    "collapsed": false,
    "ExecuteTime": {
     "start_time": "2023-04-28T13:20:00.996541Z",
     "end_time": "2023-04-28T13:20:01.084738Z"
    }
   }
  },
  {
   "cell_type": "code",
   "execution_count": null,
   "outputs": [],
   "source": [],
   "metadata": {
    "collapsed": false
   }
  },
  {
   "cell_type": "code",
   "execution_count": 36,
   "outputs": [],
   "source": [
    "from torch_geometric.utils import to_edge_index, dense_to_sparse, get_laplacian, to_dense_adj\n",
    "\n",
    "edge_index, edge_weight = dense_to_sparse(a)\n",
    "\n",
    "l_edge_index, l_edge_weight = get_laplacian(edge_index, edge_weight, \"sym\")\n",
    "\n",
    "L = to_dense_adj(edge_index = l_edge_index, edge_attr = l_edge_weight, batch_size=1)\n"
   ],
   "metadata": {
    "collapsed": false,
    "ExecuteTime": {
     "start_time": "2023-04-28T13:18:49.578301Z",
     "end_time": "2023-04-28T13:18:49.641498Z"
    }
   }
  },
  {
   "cell_type": "code",
   "execution_count": null,
   "outputs": [],
   "source": [
    "def lamda_1_for_weighted_graphs(a):\n",
    "    edge_index, edge_weight = dense_to_sparse(a)\n",
    "\n",
    "    l_edge_index, l_edge_weight = get_laplacian(edge_index, edge_weight, \"sym\")\n",
    "\n",
    "    L = to_dense_adj(edge_index = l_edge_index, edge_attr = l_edge_weight, batch_size=1)\n",
    "    eigenvalues = torch.sort(torch.real(torch.linalg.eigvals(L.squeeze(0))))\n",
    "    first_pos_eigenvalue = eigenvalues[0][1]\n",
    "\n",
    "    return first_pos_eigenvalue\n"
   ],
   "metadata": {
    "collapsed": false
   }
  },
  {
   "cell_type": "code",
   "execution_count": 37,
   "outputs": [
    {
     "data": {
      "text/plain": "tensor([[[ 1.0000, -0.7071,  0.0000,  0.0000,  0.0000,  0.0000,  0.0000,\n           0.0000,  0.0000, -0.7071],\n         [-0.7071,  1.0000,  0.0000,  0.0000,  0.0000,  0.0000,  0.0000,\n           0.0000,  0.0000,  0.0000],\n         [ 0.0000, -1.0000,  1.0000,  0.0000,  0.0000,  0.0000,  0.0000,\n           0.0000,  0.0000,  0.0000],\n         [ 0.0000,  0.0000, -1.0000,  1.0000,  0.0000,  0.0000,  0.0000,\n           0.0000,  0.0000,  0.0000],\n         [ 0.0000,  0.0000,  0.0000, -1.0000,  1.0000,  0.0000,  0.0000,\n           0.0000,  0.0000,  0.0000],\n         [ 0.0000,  0.0000,  0.0000,  0.0000, -0.3162,  1.0000,  0.0000,\n           0.0000,  0.0000,  0.0000],\n         [ 0.0000,  0.0000,  0.0000,  0.0000,  0.0000, -3.1623,  1.0000,\n           0.0000,  0.0000,  0.0000],\n         [ 0.0000,  0.0000,  0.0000,  0.0000,  0.0000,  0.0000, -1.0000,\n           1.0000,  0.0000,  0.0000],\n         [ 0.0000,  0.0000,  0.0000,  0.0000,  0.0000,  0.0000,  0.0000,\n          -1.0000,  1.0000,  0.0000],\n         [ 0.0000,  0.0000,  0.0000,  0.0000,  0.0000,  0.0000,  0.0000,\n           0.0000, -1.0000,  1.0000]]])"
     },
     "execution_count": 37,
     "metadata": {},
     "output_type": "execute_result"
    }
   ],
   "source": [
    "L"
   ],
   "metadata": {
    "collapsed": false,
    "ExecuteTime": {
     "start_time": "2023-04-28T13:18:50.346478Z",
     "end_time": "2023-04-28T13:18:50.408632Z"
    }
   }
  },
  {
   "cell_type": "code",
   "execution_count": 38,
   "outputs": [],
   "source": [
    "eigenvalues = torch.sort(torch.real(torch.linalg.eigvals(L.squeeze(0))))\n",
    "first_pos_eigenvalue = eigenvalues[0][1]"
   ],
   "metadata": {
    "collapsed": false,
    "ExecuteTime": {
     "start_time": "2023-04-28T13:18:51.048109Z",
     "end_time": "2023-04-28T13:18:51.114952Z"
    }
   }
  },
  {
   "cell_type": "code",
   "execution_count": 39,
   "outputs": [
    {
     "data": {
      "text/plain": "tensor(0.2074)"
     },
     "execution_count": 39,
     "metadata": {},
     "output_type": "execute_result"
    }
   ],
   "source": [
    "first_pos_eigenvalue"
   ],
   "metadata": {
    "collapsed": false,
    "ExecuteTime": {
     "start_time": "2023-04-28T13:18:52.012284Z",
     "end_time": "2023-04-28T13:18:52.040250Z"
    }
   }
  },
  {
   "cell_type": "code",
   "execution_count": 40,
   "outputs": [
    {
     "data": {
      "text/plain": "torch.return_types.sort(\nvalues=tensor([-3.2140e-07,  2.0744e-01,  2.0744e-01,  7.0192e-01,  7.0192e-01,\n         1.2981e+00,  1.2981e+00,  1.7926e+00,  1.7926e+00,  2.0000e+00]),\nindices=tensor([0, 1, 2, 7, 6, 9, 8, 4, 5, 3]))"
     },
     "execution_count": 40,
     "metadata": {},
     "output_type": "execute_result"
    }
   ],
   "source": [
    "eigenvalues"
   ],
   "metadata": {
    "collapsed": false,
    "ExecuteTime": {
     "start_time": "2023-04-28T13:18:52.605893Z",
     "end_time": "2023-04-28T13:18:52.622354Z"
    }
   }
  },
  {
   "cell_type": "code",
   "execution_count": 41,
   "outputs": [
    {
     "data": {
      "text/plain": "<Figure size 640x480 with 1 Axes>",
      "image/png": "[encoded data removed]"
     },
     "metadata": {},
     "output_type": "display_data"
    }
   ],
   "source": [
    "# print graph with networkx\n",
    "import networkx as nx\n",
    "import matplotlib.pyplot as plt\n",
    "\n",
    "G = nx.from_numpy_array(a.numpy())\n",
    "nx.draw(G, with_labels=True)\n",
    "plt.show()\n"
   ],
   "metadata": {
    "collapsed": false,
    "ExecuteTime": {
     "start_time": "2023-04-28T13:18:53.205467Z",
     "end_time": "2023-04-28T13:18:53.354047Z"
    }
   }
  },
  {
   "cell_type": "code",
   "execution_count": null,
   "outputs": [],
   "source": [],
   "metadata": {
    "collapsed": false
   }
  }
 ],
 "metadata": {
  "kernelspec": {
   "display_name": "Python 3",
   "language": "python",
   "name": "python3"
  },
  "language_info": {
   "codemirror_mode": {
    "name": "ipython",
    "version": 2
   },
   "file_extension": ".py",
   "mimetype": "text/x-python",
   "name": "python",
   "nbconvert_exporter": "python",
   "pygments_lexer": "ipython2",
   "version": "2.7.6"
  }
 },
 "nbformat": 4,
 "nbformat_minor": 0
}
